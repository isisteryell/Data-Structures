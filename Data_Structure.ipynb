{
  "cells": [
    {
      "cell_type": "markdown",
      "id": "1ed34d32-1a6b-4ab7-a115-3dd60d4f93a1",
      "metadata": {
        "id": "1ed34d32-1a6b-4ab7-a115-3dd60d4f93a1"
      },
      "source": [
        "# Data Types and Structures: Assignment"
      ]
    },
    {
      "cell_type": "markdown",
      "id": "8cceecda-7994-447b-a231-6c219e9a0a1f",
      "metadata": {
        "id": "8cceecda-7994-447b-a231-6c219e9a0a1f"
      },
      "source": [
        "## Theoretical Questions\n",
        "\n",
        "1. **What are data structures, and why are they important?**\n",
        "   \n",
        "   **Answer:** Data structures are specialized formats for organizing and storing data. They are important because they enable efficient data access and modification. The choice of an appropriate data structure can greatly affect the performance of algorithms, directly influencing the runtime and memory usage of a program.\n",
        "\n",
        "2. **Explain the difference between mutable and immutable data types with examples.**\n",
        "   \n",
        "   **Answer:** Mutable data types can be changed after they are created. For example, lists and dictionaries in Python are mutable because you can add, remove, or change their elements. Immutable data types cannot be altered once created; examples include strings and tuples. Immutability helps with data integrity and can lead to simpler debugging in multi-threaded environments.\n",
        "\n",
        "3. **What are the main differences between lists and tuples in Python?**\n",
        "   \n",
        "   **Answer:** The main differences include:\n",
        "   - **Mutability:** Lists are mutable (can be modified), while tuples are immutable.\n",
        "   - **Syntax:** Lists are defined with square brackets `[ ]`, whereas tuples use parentheses `( )`.\n",
        "   - **Performance:** Tuples are generally faster than lists due to their immutability and fixed size.\n",
        "\n",
        "4. **Describe how dictionaries store data.**\n",
        "   \n",
        "   **Answer:** Dictionaries store data in key-value pairs. Internally, they use hash tables to map keys to values. This structure allows for very efficient lookups, insertions, and deletions when the keys are known.\n",
        "\n",
        "5. **Why might you use a set instead of a list in Python?**\n",
        "   \n",
        "   **Answer:** Sets are used when you need to store unique elements because they automatically eliminate duplicate values. They also offer very fast membership testing compared to lists.\n",
        "\n",
        "6. **What is a string in Python, and how is it different from a list?**\n",
        "   \n",
        "   **Answer:** A string is a sequence of characters and is immutable (cannot be changed after it is created). A list, on the other hand, is a collection of items (which can be of different types) and is mutable, meaning its content can be changed.\n",
        "\n",
        "7. **How do tuples ensure data integrity in Python?**\n",
        "   \n",
        "   **Answer:** Because tuples are immutable, once they are created the elements inside cannot be changed, added, or removed. This guarantees that the data stored in tuples remains constant, thus ensuring data integrity.\n",
        "\n",
        "8. **What is a hash table, and how does it relate to dictionaries in Python?**\n",
        "   \n",
        "   **Answer:** A hash table is a data structure that maps keys to values using a hash function. In Python, dictionaries are implemented using hash tables, which allow for fast retrieval of values when the key is known.\n",
        "\n",
        "9. **Can lists contain different data types in Python?**\n",
        "   \n",
        "   **Answer:** Yes, lists in Python are heterogeneous, meaning they can contain elements of different data types such as integers, strings, floats, or even other lists.\n",
        "\n",
        "10. **Explain why strings are immutable in Python.**\n",
        "    \n",
        "    **Answer:** Strings are immutable because they are implemented as a sequence of characters that cannot be altered after creation. This immutability ensures that strings are hashable, which is useful when they are used as keys in dictionaries. It also improves performance and memory efficiency by enabling internal optimizations like string interning.\n",
        "\n",
        "11. **What advantages do dictionaries offer over lists for certain tasks?**\n",
        "    \n",
        "    **Answer:** Dictionaries allow for faster data retrieval when the key is known, as they are based on hash tables. They provide a direct mapping from unique keys to values, which is more efficient for lookups than searching through a list.\n",
        "\n",
        "12. **Describe a scenario where using a tuple would be preferable over a list.**\n",
        "    \n",
        "    **Answer:** Tuples should be used when the data is not meant to change. For instance, if you have a fixed set of configuration parameters, coordinates, or a record that should remain constant, using a tuple is preferable because it provides data integrity and can be used as a key in dictionaries.\n",
        "\n",
        "13. **How do sets handle duplicate values in Python?**\n",
        "    \n",
        "    **Answer:** Sets automatically eliminate duplicate elements. When you add elements to a set, any duplicate value is ignored so that each element appears only once.\n",
        "\n",
        "14. **How does the “in” keyword work differently for lists and dictionaries?**\n",
        "    \n",
        "    **Answer:** In lists, the `in` keyword checks for membership by scanning through each element (linear search), whereas in dictionaries, `in` checks whether the given key exists using a hash lookup, which is typically much faster.\n",
        "\n",
        "15. **Can you modify the elements of a tuple? Explain why or why not.**\n",
        "    \n",
        "    **Answer:** No, you cannot modify the elements of a tuple because tuples are immutable. Once a tuple is created, its content cannot be changed, which helps maintain its integrity.\n",
        "\n",
        "16. **What is a nested dictionary, and give an example of its use case.**\n",
        "    \n",
        "    **Answer:** A nested dictionary is a dictionary where some of the values are dictionaries themselves. This is useful for representing complex data structures such as a collection of student records where each student has multiple attributes (e.g., name, age, and marks in various subjects). Example:\n",
        "    ```python\n",
        "    students = {\n",
        "        \"student1\": {\"name\": \"Alice\", \"age\": 20, \"major\": \"CS\"},\n",
        "        \"student2\": {\"name\": \"Bob\", \"age\": 21, \"major\": \"Math\"}\n",
        "    }\n",
        "    ```\n",
        "\n",
        "17. **Describe the time complexity of accessing elements in a dictionary.**\n",
        "    \n",
        "    **Answer:** On average, accessing elements in a dictionary has a time complexity of O(1), thanks to the underlying hash table implementation. However, in the worst case (when hash collisions occur), this can degrade to O(n). In practice, the average case is what is generally experienced.\n",
        "\n",
        "18. **In what situations are lists preferred over dictionaries?**\n",
        "    \n",
        "    **Answer:** Lists are preferred when the order of elements is important, when you need to store a sequence of items and perform index-based operations or slicing, and when there is no need for key-value pairing.\n",
        "\n",
        "19. **Why are dictionaries considered unordered, and how does that affect data retrieval?**\n",
        "    \n",
        "    **Answer:** Historically, dictionaries were considered unordered because the items did not maintain a guaranteed order (even though Python 3.6+ preserves insertion order as an implementation detail). This means that you cannot rely on the order of key-value pairs when iterating over a dictionary. Retrieval is done via keys rather than position.\n",
        "\n",
        "20. **Explain the difference between a list and a dictionary in terms of data retrieval.**\n",
        "    \n",
        "    **Answer:** In a list, elements are retrieved by their index (an integer representing their position in the list), while in a dictionary, elements are retrieved by their key. Dictionary lookups use hashing to provide very fast access to the value associated with a key, whereas list lookups are based on sequential indexing.\n"
      ]
    },
    {
      "cell_type": "markdown",
      "id": "b7b12843-023a-4a69-9aeb-261a8700f815",
      "metadata": {
        "id": "b7b12843-023a-4a69-9aeb-261a8700f815"
      },
      "source": [
        "## Practical Questions"
      ]
    },
    {
      "cell_type": "code",
      "execution_count": 1,
      "id": "02e5c06e-0e56-48eb-9a5e-7f8ddfe1a5b8",
      "metadata": {
        "colab": {
          "base_uri": "https://localhost:8080/"
        },
        "id": "02e5c06e-0e56-48eb-9a5e-7f8ddfe1a5b8",
        "outputId": "8a03735e-4864-4171-c16a-9ab5af4a2215"
      },
      "outputs": [
        {
          "output_type": "stream",
          "name": "stdout",
          "text": [
            "Md Azhar Maqsood\n"
          ]
        }
      ],
      "source": [
        "# 1. Create a string with your name and print it\n",
        "name = \"Md Azhar Maqsood\"\n",
        "print(name)"
      ]
    },
    {
      "cell_type": "code",
      "execution_count": 2,
      "id": "86dd4fdb-4f3c-4f5f-9d76-a9efa7608a2f",
      "metadata": {
        "colab": {
          "base_uri": "https://localhost:8080/"
        },
        "id": "86dd4fdb-4f3c-4f5f-9d76-a9efa7608a2f",
        "outputId": "97d5eefa-cbb8-430d-8c17-0834251312f9"
      },
      "outputs": [
        {
          "output_type": "stream",
          "name": "stdout",
          "text": [
            "11\n"
          ]
        }
      ],
      "source": [
        "# 2. Find the length of the string \"Hello World\"\n",
        "s = \"Hello World\"\n",
        "print(len(s))"
      ]
    },
    {
      "cell_type": "code",
      "execution_count": 3,
      "id": "7d6e312a-3502-44b3-8f41-0b161cfa9a3a",
      "metadata": {
        "colab": {
          "base_uri": "https://localhost:8080/"
        },
        "id": "7d6e312a-3502-44b3-8f41-0b161cfa9a3a",
        "outputId": "2e65006c-0e34-4492-8acc-7d9ef3351959"
      },
      "outputs": [
        {
          "output_type": "stream",
          "name": "stdout",
          "text": [
            "Pyt\n"
          ]
        }
      ],
      "source": [
        "# 3. Slice the first 3 characters from the string \"Python Programming\"\n",
        "s = \"Python Programming\"\n",
        "print(s[:3])"
      ]
    },
    {
      "cell_type": "code",
      "execution_count": 4,
      "id": "38e0481f-d15e-45f4-afc2-3a3184e9aaba",
      "metadata": {
        "colab": {
          "base_uri": "https://localhost:8080/"
        },
        "id": "38e0481f-d15e-45f4-afc2-3a3184e9aaba",
        "outputId": "4e494fa5-2401-4efe-8d80-bc01d8382a92"
      },
      "outputs": [
        {
          "output_type": "stream",
          "name": "stdout",
          "text": [
            "HELLO\n"
          ]
        }
      ],
      "source": [
        "# 4. Convert the string \"hello\" to uppercase\n",
        "s = \"hello\"\n",
        "print(s.upper())"
      ]
    },
    {
      "cell_type": "code",
      "execution_count": 5,
      "id": "867b3d84-ef26-4567-aa7e-b1a37e795a76",
      "metadata": {
        "colab": {
          "base_uri": "https://localhost:8080/"
        },
        "id": "867b3d84-ef26-4567-aa7e-b1a37e795a76",
        "outputId": "1adf322f-4ae1-4182-f5e0-457d93249f51"
      },
      "outputs": [
        {
          "output_type": "stream",
          "name": "stdout",
          "text": [
            "I like orange\n"
          ]
        }
      ],
      "source": [
        "# 5. Replace the word \"apple\" with \"orange\" in the string \"I like apple\"\n",
        "s = \"I like apple\"\n",
        "print(s.replace(\"apple\", \"orange\"))"
      ]
    },
    {
      "cell_type": "code",
      "execution_count": 6,
      "id": "27d9a8f3-3dc8-4d84-9da1-425f1e2fd0c6",
      "metadata": {
        "colab": {
          "base_uri": "https://localhost:8080/"
        },
        "id": "27d9a8f3-3dc8-4d84-9da1-425f1e2fd0c6",
        "outputId": "06eeebdb-acf6-41aa-83f0-4278f366033a"
      },
      "outputs": [
        {
          "output_type": "stream",
          "name": "stdout",
          "text": [
            "[1, 2, 3, 4, 5]\n"
          ]
        }
      ],
      "source": [
        "# 6. Create a list with numbers 1 to 5 and print it\n",
        "lst = [1, 2, 3, 4, 5]\n",
        "print(lst)"
      ]
    },
    {
      "cell_type": "code",
      "execution_count": 7,
      "id": "bc4a4e30-5ed9-47e2-9579-21975c97539d",
      "metadata": {
        "colab": {
          "base_uri": "https://localhost:8080/"
        },
        "id": "bc4a4e30-5ed9-47e2-9579-21975c97539d",
        "outputId": "d256c0e4-9af7-4646-901e-47fc85ea15c9"
      },
      "outputs": [
        {
          "output_type": "stream",
          "name": "stdout",
          "text": [
            "[1, 2, 3, 4, 10]\n"
          ]
        }
      ],
      "source": [
        "# 7. Append the number 10 to the list [1, 2, 3, 4]\n",
        "lst = [1, 2, 3, 4]\n",
        "lst.append(10)\n",
        "print(lst)"
      ]
    },
    {
      "cell_type": "code",
      "execution_count": 8,
      "id": "af6bde1d-2f7b-48df-8a8d-4f1ef6cb24a9",
      "metadata": {
        "colab": {
          "base_uri": "https://localhost:8080/"
        },
        "id": "af6bde1d-2f7b-48df-8a8d-4f1ef6cb24a9",
        "outputId": "a837c331-b668-4a89-a682-9a49ede44207"
      },
      "outputs": [
        {
          "output_type": "stream",
          "name": "stdout",
          "text": [
            "[1, 2, 4, 5]\n"
          ]
        }
      ],
      "source": [
        "# 8. Remove the number 3 from the list [1, 2, 3, 4, 5]\n",
        "lst = [1, 2, 3, 4, 5]\n",
        "lst.remove(3)\n",
        "print(lst)"
      ]
    },
    {
      "cell_type": "code",
      "execution_count": 9,
      "id": "39a4f78d-0a0c-4c69-8e6f-2ef9b7ab63bd",
      "metadata": {
        "colab": {
          "base_uri": "https://localhost:8080/"
        },
        "id": "39a4f78d-0a0c-4c69-8e6f-2ef9b7ab63bd",
        "outputId": "b5bd2574-cff8-43c0-e2e9-bdfa83cdc989"
      },
      "outputs": [
        {
          "output_type": "stream",
          "name": "stdout",
          "text": [
            "b\n"
          ]
        }
      ],
      "source": [
        "# 9. Access the second element in the list ['a', 'b', 'c', 'd']\n",
        "lst = ['a', 'b', 'c', 'd']\n",
        "print(lst[1])"
      ]
    },
    {
      "cell_type": "code",
      "execution_count": 10,
      "id": "d07a2d6b-cb8a-4e70-bb40-3ec0e2876e1d",
      "metadata": {
        "colab": {
          "base_uri": "https://localhost:8080/"
        },
        "id": "d07a2d6b-cb8a-4e70-bb40-3ec0e2876e1d",
        "outputId": "78f74fe1-6102-4b71-b153-988a403441b0"
      },
      "outputs": [
        {
          "output_type": "stream",
          "name": "stdout",
          "text": [
            "[50, 40, 30, 20, 10]\n"
          ]
        }
      ],
      "source": [
        "# 10. Reverse the list [10, 20, 30, 40, 50]\n",
        "lst = [10, 20, 30, 40, 50]\n",
        "print(lst[::-1])"
      ]
    },
    {
      "cell_type": "code",
      "execution_count": 11,
      "id": "c8de6f7c-0fd0-4739-b217-5943d0bda8d4",
      "metadata": {
        "colab": {
          "base_uri": "https://localhost:8080/"
        },
        "id": "c8de6f7c-0fd0-4739-b217-5943d0bda8d4",
        "outputId": "40bf7788-1aa1-40f4-f09e-046e08dd8757"
      },
      "outputs": [
        {
          "output_type": "stream",
          "name": "stdout",
          "text": [
            "(100, 200, 300)\n"
          ]
        }
      ],
      "source": [
        "# 11. Create a tuple with the elements 100, 200, 300 and print it\n",
        "tpl = (100, 200, 300)\n",
        "print(tpl)"
      ]
    },
    {
      "cell_type": "code",
      "execution_count": 12,
      "id": "03ebcdb6-6c33-4ff8-b69f-80891f6e8ad7",
      "metadata": {
        "colab": {
          "base_uri": "https://localhost:8080/"
        },
        "id": "03ebcdb6-6c33-4ff8-b69f-80891f6e8ad7",
        "outputId": "cdad6217-c0b4-4902-ff0b-36319e03a0d1"
      },
      "outputs": [
        {
          "output_type": "stream",
          "name": "stdout",
          "text": [
            "blue\n"
          ]
        }
      ],
      "source": [
        "# 12. Access the second-to-last element of the tuple ('red', 'green', 'blue', 'yellow')\n",
        "tpl = ('red', 'green', 'blue', 'yellow')\n",
        "print(tpl[-2])"
      ]
    },
    {
      "cell_type": "code",
      "execution_count": 13,
      "id": "2a0da4a5-3f2a-4d60-bbcb-7b0f8124bbc9",
      "metadata": {
        "colab": {
          "base_uri": "https://localhost:8080/"
        },
        "id": "2a0da4a5-3f2a-4d60-bbcb-7b0f8124bbc9",
        "outputId": "3b33bc13-cda8-4451-e9d3-a188162e75d5"
      },
      "outputs": [
        {
          "output_type": "stream",
          "name": "stdout",
          "text": [
            "5\n"
          ]
        }
      ],
      "source": [
        "# 13. Find the minimum number in the tuple (10, 20, 5, 15)\n",
        "tpl = (10, 20, 5, 15)\n",
        "print(min(tpl))"
      ]
    },
    {
      "cell_type": "code",
      "execution_count": 14,
      "id": "07c862d8-287a-4893-a2ec-4f603a3f2d0e",
      "metadata": {
        "colab": {
          "base_uri": "https://localhost:8080/"
        },
        "id": "07c862d8-287a-4893-a2ec-4f603a3f2d0e",
        "outputId": "ff44fba6-c070-483b-abd1-d93f5b42d437"
      },
      "outputs": [
        {
          "output_type": "stream",
          "name": "stdout",
          "text": [
            "1\n"
          ]
        }
      ],
      "source": [
        "# 14. Find the index of the element \"cat\" in the tuple ('dog', 'cat', 'rabbit')\n",
        "tpl = ('dog', 'cat', 'rabbit')\n",
        "print(tpl.index('cat'))"
      ]
    },
    {
      "cell_type": "code",
      "execution_count": 15,
      "id": "e154bcf0-c49a-4d7d-8d7d-453ef774d691",
      "metadata": {
        "colab": {
          "base_uri": "https://localhost:8080/"
        },
        "id": "e154bcf0-c49a-4d7d-8d7d-453ef774d691",
        "outputId": "078bcb86-3f60-4d54-e925-5eb72c5cdd3e"
      },
      "outputs": [
        {
          "output_type": "stream",
          "name": "stdout",
          "text": [
            "False\n"
          ]
        }
      ],
      "source": [
        "# 15. Create a tuple containing three different fruits and check if \"kiwi\" is in it\n",
        "fruits = ('apple', 'banana', 'mango')\n",
        "print('kiwi' in fruits)"
      ]
    },
    {
      "cell_type": "code",
      "execution_count": 16,
      "id": "b68af9c8-2854-4b53-83bf-1f9a8f3a4c7e",
      "metadata": {
        "colab": {
          "base_uri": "https://localhost:8080/"
        },
        "id": "b68af9c8-2854-4b53-83bf-1f9a8f3a4c7e",
        "outputId": "c670c55e-d4b6-428f-a800-f5fc86cb8fb5"
      },
      "outputs": [
        {
          "output_type": "stream",
          "name": "stdout",
          "text": [
            "{'c', 'a', 'b'}\n"
          ]
        }
      ],
      "source": [
        "# 16. Create a set with the elements 'a', 'b', 'c' and print it\n",
        "s = {'a', 'b', 'c'}\n",
        "print(s)"
      ]
    },
    {
      "cell_type": "code",
      "execution_count": 17,
      "id": "e4fc1a36-68c5-492a-a53f-a536f2d12f01",
      "metadata": {
        "colab": {
          "base_uri": "https://localhost:8080/"
        },
        "id": "e4fc1a36-68c5-492a-a53f-a536f2d12f01",
        "outputId": "030fbfb8-be0b-4ba3-e000-791a400a474d"
      },
      "outputs": [
        {
          "output_type": "stream",
          "name": "stdout",
          "text": [
            "set()\n"
          ]
        }
      ],
      "source": [
        "# 17. Clear all elements from the set {1, 2, 3, 4, 5}\n",
        "s = {1, 2, 3, 4, 5}\n",
        "s.clear()\n",
        "print(s)"
      ]
    },
    {
      "cell_type": "code",
      "execution_count": 18,
      "id": "490aa154-ad97-4b6c-aa7f-cc1a7919fbf1",
      "metadata": {
        "colab": {
          "base_uri": "https://localhost:8080/"
        },
        "id": "490aa154-ad97-4b6c-aa7f-cc1a7919fbf1",
        "outputId": "e9cf9510-6aec-435b-a4de-62559a088c42"
      },
      "outputs": [
        {
          "output_type": "stream",
          "name": "stdout",
          "text": [
            "{1, 2, 3}\n"
          ]
        }
      ],
      "source": [
        "# 18. Remove the element 4 from the set {1, 2, 3, 4}\n",
        "s = {1, 2, 3, 4}\n",
        "s.remove(4)\n",
        "print(s)"
      ]
    },
    {
      "cell_type": "code",
      "execution_count": 19,
      "id": "20d1d580-29b0-4e34-94d3-37d650fbbd3c",
      "metadata": {
        "colab": {
          "base_uri": "https://localhost:8080/"
        },
        "id": "20d1d580-29b0-4e34-94d3-37d650fbbd3c",
        "outputId": "1d92d95e-fd92-46b3-8e05-48a8efbef282"
      },
      "outputs": [
        {
          "output_type": "stream",
          "name": "stdout",
          "text": [
            "{1, 2, 3, 4, 5}\n"
          ]
        }
      ],
      "source": [
        "# 19. Find the union of two sets {1, 2, 3} and {3, 4, 5}\n",
        "set1 = {1, 2, 3}\n",
        "set2 = {3, 4, 5}\n",
        "print(set1.union(set2))"
      ]
    },
    {
      "cell_type": "code",
      "execution_count": 20,
      "id": "2f0cfe8e-12b0-4059-bb8b-55efcf537b39",
      "metadata": {
        "colab": {
          "base_uri": "https://localhost:8080/"
        },
        "id": "2f0cfe8e-12b0-4059-bb8b-55efcf537b39",
        "outputId": "5d9c6ebf-b5f4-4632-ab38-24a9b000500f"
      },
      "outputs": [
        {
          "output_type": "stream",
          "name": "stdout",
          "text": [
            "{2, 3}\n"
          ]
        }
      ],
      "source": [
        "# 20. Find the intersection of two sets {1, 2, 3} and {2, 3, 4}\n",
        "set1 = {1, 2, 3}\n",
        "set2 = {2, 3, 4}\n",
        "print(set1.intersection(set2))"
      ]
    },
    {
      "cell_type": "code",
      "execution_count": 21,
      "id": "5f557a1f-8a73-4e6b-bda1-5570d203cce8",
      "metadata": {
        "colab": {
          "base_uri": "https://localhost:8080/"
        },
        "id": "5f557a1f-8a73-4e6b-bda1-5570d203cce8",
        "outputId": "22fb2577-b595-4c3a-fd23-5b31dc3b6544"
      },
      "outputs": [
        {
          "output_type": "stream",
          "name": "stdout",
          "text": [
            "{'name': 'Alice', 'age': 30, 'city': 'Paris'}\n"
          ]
        }
      ],
      "source": [
        "# 21. Create a dictionary with the keys \"name\", \"age\", and \"city\", and print it\n",
        "person = {\"name\": \"Alice\", \"age\": 30, \"city\": \"Paris\"}\n",
        "print(person)"
      ]
    },
    {
      "cell_type": "code",
      "execution_count": 22,
      "id": "d675e28b-d1e2-40a8-bb6e-13c2b210ab37",
      "metadata": {
        "colab": {
          "base_uri": "https://localhost:8080/"
        },
        "id": "d675e28b-d1e2-40a8-bb6e-13c2b210ab37",
        "outputId": "dfa8c1a0-1439-4bcd-9ef5-2dcf2f9b91e3"
      },
      "outputs": [
        {
          "output_type": "stream",
          "name": "stdout",
          "text": [
            "{'name': 'John', 'age': 25, 'country': 'USA'}\n"
          ]
        }
      ],
      "source": [
        "# 22. Add a new key-value pair \"country\": \"USA\" to the dictionary {'name': 'John', 'age': 25}\n",
        "person = {'name': 'John', 'age': 25}\n",
        "person['country'] = 'USA'\n",
        "print(person)"
      ]
    },
    {
      "cell_type": "code",
      "execution_count": 23,
      "id": "ba05d430-2dfa-4bb4-845a-5b8fdfd8837a",
      "metadata": {
        "colab": {
          "base_uri": "https://localhost:8080/"
        },
        "id": "ba05d430-2dfa-4bb4-845a-5b8fdfd8837a",
        "outputId": "02e0ec93-7528-477a-e9e4-c45b1084d929"
      },
      "outputs": [
        {
          "output_type": "stream",
          "name": "stdout",
          "text": [
            "Alice\n"
          ]
        }
      ],
      "source": [
        "# 23. Access the value associated with the key \"name\" in the dictionary {'name': 'Alice', 'age': 30}\n",
        "person = {'name': 'Alice', 'age': 30}\n",
        "print(person['name'])"
      ]
    },
    {
      "cell_type": "code",
      "execution_count": 24,
      "id": "a3187b3e-513d-4617-bb87-4a5b37711fcf",
      "metadata": {
        "colab": {
          "base_uri": "https://localhost:8080/"
        },
        "id": "a3187b3e-513d-4617-bb87-4a5b37711fcf",
        "outputId": "bf723b63-a885-4657-c0fc-0b9e4fe304e8"
      },
      "outputs": [
        {
          "output_type": "stream",
          "name": "stdout",
          "text": [
            "{'name': 'Bob', 'city': 'New York'}\n"
          ]
        }
      ],
      "source": [
        "# 24. Remove the key \"age\" from the dictionary {'name': 'Bob', 'age': 22, 'city': 'New York'}\n",
        "person = {'name': 'Bob', 'age': 22, 'city': 'New York'}\n",
        "del person['age']\n",
        "print(person)"
      ]
    },
    {
      "cell_type": "code",
      "execution_count": 25,
      "id": "8aa9a86a-988a-41d6-9c35-46d0c7635d85",
      "metadata": {
        "colab": {
          "base_uri": "https://localhost:8080/"
        },
        "id": "8aa9a86a-988a-41d6-9c35-46d0c7635d85",
        "outputId": "84705255-4af2-4eff-ed28-2ff779f9c541"
      },
      "outputs": [
        {
          "output_type": "stream",
          "name": "stdout",
          "text": [
            "True\n"
          ]
        }
      ],
      "source": [
        "# 25. Check if the key \"city\" exists in the dictionary {'name': 'Alice', 'city': 'Paris'}\n",
        "person = {'name': 'Alice', 'city': 'Paris'}\n",
        "print('city' in person)"
      ]
    },
    {
      "cell_type": "code",
      "execution_count": 26,
      "id": "b89205d9-2b61-4a31-b3aa-3b8e2383c6b5",
      "metadata": {
        "colab": {
          "base_uri": "https://localhost:8080/"
        },
        "id": "b89205d9-2b61-4a31-b3aa-3b8e2383c6b5",
        "outputId": "bfd69e8c-9b81-4315-9487-5bf94ea1c0d4"
      },
      "outputs": [
        {
          "output_type": "stream",
          "name": "stdout",
          "text": [
            "List: [1, 2, 3]\n",
            "Tuple: (4, 5, 6)\n",
            "Dictionary: {'a': 1, 'b': 2}\n"
          ]
        }
      ],
      "source": [
        "# 26. Create a list, a tuple, and a dictionary, and print them all\n",
        "lst = [1, 2, 3]\n",
        "tpl = (4, 5, 6)\n",
        "dct = {'a': 1, 'b': 2}\n",
        "print(\"List:\", lst)\n",
        "print(\"Tuple:\", tpl)\n",
        "print(\"Dictionary:\", dct)"
      ]
    },
    {
      "cell_type": "code",
      "execution_count": 27,
      "id": "c59a0c5f-d2b0-4cbd-8af4-c7ab37fd45a9",
      "metadata": {
        "colab": {
          "base_uri": "https://localhost:8080/"
        },
        "id": "c59a0c5f-d2b0-4cbd-8af4-c7ab37fd45a9",
        "outputId": "beda7537-ad06-4937-db0f-3019a8562e4a"
      },
      "outputs": [
        {
          "output_type": "stream",
          "name": "stdout",
          "text": [
            "[18, 22, 31, 49, 95]\n"
          ]
        }
      ],
      "source": [
        "# 27. Create a list of 5 random numbers between 1 and 100, sort it in ascending order, and print the result\n",
        "import random\n",
        "rand_list = [random.randint(1, 100) for _ in range(5)]\n",
        "rand_list.sort()\n",
        "print(rand_list)"
      ]
    },
    {
      "cell_type": "code",
      "execution_count": 28,
      "id": "3d0e7a70-5f4a-4a09-bfbb-2a35fa2264b4",
      "metadata": {
        "colab": {
          "base_uri": "https://localhost:8080/"
        },
        "id": "3d0e7a70-5f4a-4a09-bfbb-2a35fa2264b4",
        "outputId": "7d3da1e9-6aaf-45ef-bc7b-6278843009e4"
      },
      "outputs": [
        {
          "output_type": "stream",
          "name": "stdout",
          "text": [
            "date\n"
          ]
        }
      ],
      "source": [
        "# 28. Create a list with strings and print the element at the third index\n",
        "str_list = ['apple', 'banana', 'cherry', 'date', 'elderberry']\n",
        "print(str_list[3])"
      ]
    },
    {
      "cell_type": "code",
      "execution_count": 29,
      "id": "3e80eec2-cac6-4fe5-af8d-f46dc31fa7fd",
      "metadata": {
        "colab": {
          "base_uri": "https://localhost:8080/"
        },
        "id": "3e80eec2-cac6-4fe5-af8d-f46dc31fa7fd",
        "outputId": "72a03b02-c0a1-4723-9a9e-55ba5a32b26a"
      },
      "outputs": [
        {
          "output_type": "stream",
          "name": "stdout",
          "text": [
            "{'a': 1, 'b': 2, 'c': 3, 'd': 4}\n"
          ]
        }
      ],
      "source": [
        "# 29. Combine two dictionaries into one and print the result\n",
        "dict1 = {'a': 1, 'b': 2}\n",
        "dict2 = {'c': 3, 'd': 4}\n",
        "combined = {**dict1, **dict2}\n",
        "print(combined)"
      ]
    },
    {
      "cell_type": "code",
      "execution_count": 30,
      "id": "a2bd0f33-9bb2-4dd9-aa1b-a0d8a2954b8a",
      "metadata": {
        "colab": {
          "base_uri": "https://localhost:8080/"
        },
        "id": "a2bd0f33-9bb2-4dd9-aa1b-a0d8a2954b8a",
        "outputId": "7a44a6d1-23ca-45f2-ca50-09750487c1e1"
      },
      "outputs": [
        {
          "output_type": "stream",
          "name": "stdout",
          "text": [
            "{'banana', 'apple', 'cherry'}\n"
          ]
        }
      ],
      "source": [
        "# 30. Convert a list of strings into a set\n",
        "str_list = ['apple', 'banana', 'apple', 'cherry', 'banana']\n",
        "str_set = set(str_list)\n",
        "print(str_set)"
      ]
    }
  ],
  "metadata": {
    "kernelspec": {
      "display_name": "Python 3",
      "language": "python",
      "name": "python3"
    },
    "language_info": {
      "name": "python",
      "version": "3.x"
    },
    "colab": {
      "provenance": []
    }
  },
  "nbformat": 4,
  "nbformat_minor": 5
}